{
 "cells": [
  {
   "cell_type": "markdown",
   "metadata": {},
   "source": [
    "# Projeto 1 - Árvores de Decisão e Florestas Randômicas"
   ]
  },
  {
   "cell_type": "markdown",
   "metadata": {},
   "source": [
    "Aluno: Lucas de Almeida Bandeira Macedo\n",
    "\n",
    "Matrícula: 19/0047089"
   ]
  },
  {
   "cell_type": "code",
   "execution_count": 189,
   "metadata": {},
   "outputs": [],
   "source": [
    "import pandas as pd\n",
    "import numpy as np\n",
    "import seaborn as sns\n",
    "import matplotlib.pyplot as plt\n",
    "\n",
    "from sklearn.model_selection import cross_val_predict\n",
    "from sklearn.metrics import confusion_matrix\n",
    "from sklearn.metrics import roc_curve\n",
    "from sklearn import metrics\n",
    "\n",
    "random_state = 0"
   ]
  },
  {
   "cell_type": "markdown",
   "metadata": {},
   "source": [
    "### Formatação dos dados:"
   ]
  },
  {
   "cell_type": "markdown",
   "metadata": {},
   "source": [
    "Essa parte diz respeito apenas a conversão de tipos e padronização dos dados do dataset. \n",
    "\n",
    "Começamos juntando os dados de treino e de teste em um único dataframe, pois queremos fazer a separação em 10-90.\n",
    "\n",
    "Em seguida, substituímos todos os dados que contêm \"?\" por NaN, e convertemos essa coluna de string para float."
   ]
  },
  {
   "cell_type": "code",
   "execution_count": 190,
   "metadata": {},
   "outputs": [
    {
     "data": {
      "text/html": [
       "<div>\n",
       "<style scoped>\n",
       "    .dataframe tbody tr th:only-of-type {\n",
       "        vertical-align: middle;\n",
       "    }\n",
       "\n",
       "    .dataframe tbody tr th {\n",
       "        vertical-align: top;\n",
       "    }\n",
       "\n",
       "    .dataframe thead th {\n",
       "        text-align: right;\n",
       "    }\n",
       "</style>\n",
       "<table border=\"1\" class=\"dataframe\">\n",
       "  <thead>\n",
       "    <tr style=\"text-align: right;\">\n",
       "      <th></th>\n",
       "      <th>AGE</th>\n",
       "      <th>SEX</th>\n",
       "      <th>STEROID</th>\n",
       "      <th>ANTIVIRALS</th>\n",
       "      <th>FATIGUE</th>\n",
       "      <th>MALAISE</th>\n",
       "      <th>ANOREXIA</th>\n",
       "      <th>LIVER_BIG</th>\n",
       "      <th>LIVER_FIRM</th>\n",
       "      <th>SPLEEN_PALPABLE</th>\n",
       "      <th>SPIDERS</th>\n",
       "      <th>ASCITES</th>\n",
       "      <th>VARICES</th>\n",
       "      <th>BILIRUBIN</th>\n",
       "      <th>ALK_PHOSPHATE</th>\n",
       "      <th>SGOT</th>\n",
       "      <th>ALBUMIN</th>\n",
       "      <th>PROTIME</th>\n",
       "      <th>HISTOLOGY</th>\n",
       "      <th>CLASS</th>\n",
       "    </tr>\n",
       "  </thead>\n",
       "  <tbody>\n",
       "    <tr>\n",
       "      <th>0</th>\n",
       "      <td>23</td>\n",
       "      <td>1</td>\n",
       "      <td>2.0</td>\n",
       "      <td>2</td>\n",
       "      <td>2.0</td>\n",
       "      <td>2.0</td>\n",
       "      <td>2.0</td>\n",
       "      <td>2.0</td>\n",
       "      <td>2.0</td>\n",
       "      <td>2.0</td>\n",
       "      <td>2.0</td>\n",
       "      <td>2.0</td>\n",
       "      <td>2.0</td>\n",
       "      <td>1.0</td>\n",
       "      <td>NaN</td>\n",
       "      <td>NaN</td>\n",
       "      <td>NaN</td>\n",
       "      <td>NaN</td>\n",
       "      <td>1</td>\n",
       "      <td>2</td>\n",
       "    </tr>\n",
       "    <tr>\n",
       "      <th>1</th>\n",
       "      <td>43</td>\n",
       "      <td>1</td>\n",
       "      <td>2.0</td>\n",
       "      <td>2</td>\n",
       "      <td>1.0</td>\n",
       "      <td>2.0</td>\n",
       "      <td>2.0</td>\n",
       "      <td>2.0</td>\n",
       "      <td>2.0</td>\n",
       "      <td>1.0</td>\n",
       "      <td>1.0</td>\n",
       "      <td>1.0</td>\n",
       "      <td>2.0</td>\n",
       "      <td>1.2</td>\n",
       "      <td>100.0</td>\n",
       "      <td>19.0</td>\n",
       "      <td>3.1</td>\n",
       "      <td>42.0</td>\n",
       "      <td>2</td>\n",
       "      <td>1</td>\n",
       "    </tr>\n",
       "    <tr>\n",
       "      <th>2</th>\n",
       "      <td>48</td>\n",
       "      <td>1</td>\n",
       "      <td>1.0</td>\n",
       "      <td>2</td>\n",
       "      <td>1.0</td>\n",
       "      <td>1.0</td>\n",
       "      <td>2.0</td>\n",
       "      <td>2.0</td>\n",
       "      <td>1.0</td>\n",
       "      <td>2.0</td>\n",
       "      <td>1.0</td>\n",
       "      <td>1.0</td>\n",
       "      <td>1.0</td>\n",
       "      <td>4.8</td>\n",
       "      <td>123.0</td>\n",
       "      <td>157.0</td>\n",
       "      <td>2.7</td>\n",
       "      <td>31.0</td>\n",
       "      <td>2</td>\n",
       "      <td>1</td>\n",
       "    </tr>\n",
       "    <tr>\n",
       "      <th>3</th>\n",
       "      <td>34</td>\n",
       "      <td>1</td>\n",
       "      <td>1.0</td>\n",
       "      <td>2</td>\n",
       "      <td>1.0</td>\n",
       "      <td>1.0</td>\n",
       "      <td>2.0</td>\n",
       "      <td>1.0</td>\n",
       "      <td>1.0</td>\n",
       "      <td>2.0</td>\n",
       "      <td>1.0</td>\n",
       "      <td>2.0</td>\n",
       "      <td>2.0</td>\n",
       "      <td>2.8</td>\n",
       "      <td>127.0</td>\n",
       "      <td>182.0</td>\n",
       "      <td>NaN</td>\n",
       "      <td>NaN</td>\n",
       "      <td>1</td>\n",
       "      <td>1</td>\n",
       "    </tr>\n",
       "    <tr>\n",
       "      <th>4</th>\n",
       "      <td>36</td>\n",
       "      <td>1</td>\n",
       "      <td>1.0</td>\n",
       "      <td>2</td>\n",
       "      <td>2.0</td>\n",
       "      <td>2.0</td>\n",
       "      <td>2.0</td>\n",
       "      <td>2.0</td>\n",
       "      <td>2.0</td>\n",
       "      <td>1.0</td>\n",
       "      <td>2.0</td>\n",
       "      <td>2.0</td>\n",
       "      <td>2.0</td>\n",
       "      <td>0.8</td>\n",
       "      <td>85.0</td>\n",
       "      <td>44.0</td>\n",
       "      <td>4.2</td>\n",
       "      <td>85.0</td>\n",
       "      <td>1</td>\n",
       "      <td>2</td>\n",
       "    </tr>\n",
       "    <tr>\n",
       "      <th>...</th>\n",
       "      <td>...</td>\n",
       "      <td>...</td>\n",
       "      <td>...</td>\n",
       "      <td>...</td>\n",
       "      <td>...</td>\n",
       "      <td>...</td>\n",
       "      <td>...</td>\n",
       "      <td>...</td>\n",
       "      <td>...</td>\n",
       "      <td>...</td>\n",
       "      <td>...</td>\n",
       "      <td>...</td>\n",
       "      <td>...</td>\n",
       "      <td>...</td>\n",
       "      <td>...</td>\n",
       "      <td>...</td>\n",
       "      <td>...</td>\n",
       "      <td>...</td>\n",
       "      <td>...</td>\n",
       "      <td>...</td>\n",
       "    </tr>\n",
       "    <tr>\n",
       "      <th>150</th>\n",
       "      <td>54</td>\n",
       "      <td>1</td>\n",
       "      <td>1.0</td>\n",
       "      <td>2</td>\n",
       "      <td>1.0</td>\n",
       "      <td>1.0</td>\n",
       "      <td>2.0</td>\n",
       "      <td>NaN</td>\n",
       "      <td>NaN</td>\n",
       "      <td>1.0</td>\n",
       "      <td>2.0</td>\n",
       "      <td>1.0</td>\n",
       "      <td>2.0</td>\n",
       "      <td>3.9</td>\n",
       "      <td>120.0</td>\n",
       "      <td>28.0</td>\n",
       "      <td>3.5</td>\n",
       "      <td>43.0</td>\n",
       "      <td>2</td>\n",
       "      <td>1</td>\n",
       "    </tr>\n",
       "    <tr>\n",
       "      <th>151</th>\n",
       "      <td>47</td>\n",
       "      <td>1</td>\n",
       "      <td>2.0</td>\n",
       "      <td>2</td>\n",
       "      <td>2.0</td>\n",
       "      <td>2.0</td>\n",
       "      <td>2.0</td>\n",
       "      <td>2.0</td>\n",
       "      <td>2.0</td>\n",
       "      <td>2.0</td>\n",
       "      <td>1.0</td>\n",
       "      <td>2.0</td>\n",
       "      <td>1.0</td>\n",
       "      <td>2.0</td>\n",
       "      <td>84.0</td>\n",
       "      <td>23.0</td>\n",
       "      <td>4.2</td>\n",
       "      <td>66.0</td>\n",
       "      <td>2</td>\n",
       "      <td>1</td>\n",
       "    </tr>\n",
       "    <tr>\n",
       "      <th>152</th>\n",
       "      <td>36</td>\n",
       "      <td>1</td>\n",
       "      <td>1.0</td>\n",
       "      <td>2</td>\n",
       "      <td>2.0</td>\n",
       "      <td>2.0</td>\n",
       "      <td>2.0</td>\n",
       "      <td>2.0</td>\n",
       "      <td>2.0</td>\n",
       "      <td>2.0</td>\n",
       "      <td>2.0</td>\n",
       "      <td>2.0</td>\n",
       "      <td>2.0</td>\n",
       "      <td>1.1</td>\n",
       "      <td>141.0</td>\n",
       "      <td>75.0</td>\n",
       "      <td>3.3</td>\n",
       "      <td>NaN</td>\n",
       "      <td>2</td>\n",
       "      <td>2</td>\n",
       "    </tr>\n",
       "    <tr>\n",
       "      <th>153</th>\n",
       "      <td>25</td>\n",
       "      <td>2</td>\n",
       "      <td>1.0</td>\n",
       "      <td>1</td>\n",
       "      <td>2.0</td>\n",
       "      <td>2.0</td>\n",
       "      <td>2.0</td>\n",
       "      <td>2.0</td>\n",
       "      <td>2.0</td>\n",
       "      <td>2.0</td>\n",
       "      <td>2.0</td>\n",
       "      <td>2.0</td>\n",
       "      <td>2.0</td>\n",
       "      <td>0.4</td>\n",
       "      <td>45.0</td>\n",
       "      <td>18.0</td>\n",
       "      <td>4.3</td>\n",
       "      <td>70.0</td>\n",
       "      <td>1</td>\n",
       "      <td>2</td>\n",
       "    </tr>\n",
       "    <tr>\n",
       "      <th>154</th>\n",
       "      <td>49</td>\n",
       "      <td>1</td>\n",
       "      <td>2.0</td>\n",
       "      <td>2</td>\n",
       "      <td>1.0</td>\n",
       "      <td>1.0</td>\n",
       "      <td>2.0</td>\n",
       "      <td>2.0</td>\n",
       "      <td>2.0</td>\n",
       "      <td>2.0</td>\n",
       "      <td>2.0</td>\n",
       "      <td>2.0</td>\n",
       "      <td>2.0</td>\n",
       "      <td>0.8</td>\n",
       "      <td>103.0</td>\n",
       "      <td>43.0</td>\n",
       "      <td>3.5</td>\n",
       "      <td>66.0</td>\n",
       "      <td>1</td>\n",
       "      <td>2</td>\n",
       "    </tr>\n",
       "  </tbody>\n",
       "</table>\n",
       "<p>155 rows × 20 columns</p>\n",
       "</div>"
      ],
      "text/plain": [
       "     AGE  SEX  STEROID  ANTIVIRALS  FATIGUE  MALAISE  ANOREXIA  LIVER_BIG  \\\n",
       "0     23    1      2.0           2      2.0      2.0       2.0        2.0   \n",
       "1     43    1      2.0           2      1.0      2.0       2.0        2.0   \n",
       "2     48    1      1.0           2      1.0      1.0       2.0        2.0   \n",
       "3     34    1      1.0           2      1.0      1.0       2.0        1.0   \n",
       "4     36    1      1.0           2      2.0      2.0       2.0        2.0   \n",
       "..   ...  ...      ...         ...      ...      ...       ...        ...   \n",
       "150   54    1      1.0           2      1.0      1.0       2.0        NaN   \n",
       "151   47    1      2.0           2      2.0      2.0       2.0        2.0   \n",
       "152   36    1      1.0           2      2.0      2.0       2.0        2.0   \n",
       "153   25    2      1.0           1      2.0      2.0       2.0        2.0   \n",
       "154   49    1      2.0           2      1.0      1.0       2.0        2.0   \n",
       "\n",
       "     LIVER_FIRM  SPLEEN_PALPABLE  SPIDERS  ASCITES  VARICES  BILIRUBIN  \\\n",
       "0           2.0              2.0      2.0      2.0      2.0        1.0   \n",
       "1           2.0              1.0      1.0      1.0      2.0        1.2   \n",
       "2           1.0              2.0      1.0      1.0      1.0        4.8   \n",
       "3           1.0              2.0      1.0      2.0      2.0        2.8   \n",
       "4           2.0              1.0      2.0      2.0      2.0        0.8   \n",
       "..          ...              ...      ...      ...      ...        ...   \n",
       "150         NaN              1.0      2.0      1.0      2.0        3.9   \n",
       "151         2.0              2.0      1.0      2.0      1.0        2.0   \n",
       "152         2.0              2.0      2.0      2.0      2.0        1.1   \n",
       "153         2.0              2.0      2.0      2.0      2.0        0.4   \n",
       "154         2.0              2.0      2.0      2.0      2.0        0.8   \n",
       "\n",
       "     ALK_PHOSPHATE   SGOT  ALBUMIN  PROTIME  HISTOLOGY  CLASS  \n",
       "0              NaN    NaN      NaN      NaN          1      2  \n",
       "1            100.0   19.0      3.1     42.0          2      1  \n",
       "2            123.0  157.0      2.7     31.0          2      1  \n",
       "3            127.0  182.0      NaN      NaN          1      1  \n",
       "4             85.0   44.0      4.2     85.0          1      2  \n",
       "..             ...    ...      ...      ...        ...    ...  \n",
       "150          120.0   28.0      3.5     43.0          2      1  \n",
       "151           84.0   23.0      4.2     66.0          2      1  \n",
       "152          141.0   75.0      3.3      NaN          2      2  \n",
       "153           45.0   18.0      4.3     70.0          1      2  \n",
       "154          103.0   43.0      3.5     66.0          1      2  \n",
       "\n",
       "[155 rows x 20 columns]"
      ]
     },
     "execution_count": 190,
     "metadata": {},
     "output_type": "execute_result"
    }
   ],
   "source": [
    "df = pd.concat([pd.read_csv(\"data\\hepatitis.data.train.csv\", index_col=0), pd.read_csv(\"data\\hepatitis.data.test.csv\", index_col=0)])\n",
    "df.reset_index(inplace=True, drop=True)\n",
    "df.replace(\"?\", np.nan, inplace=True)\n",
    "\n",
    "type_map = df.dtypes[df.dtypes == \"object\"].replace(\"object\", \"float\")\n",
    "df = df.astype(type_map)\n",
    "df"
   ]
  },
  {
   "cell_type": "markdown",
   "metadata": {},
   "source": [
    "## Análise dos dados"
   ]
  },
  {
   "cell_type": "markdown",
   "metadata": {},
   "source": [
    "Podemos tirar algumas conclusões fáceis dos dados apenas por olhar a média e o desvio padrão:"
   ]
  },
  {
   "cell_type": "code",
   "execution_count": 191,
   "metadata": {},
   "outputs": [
    {
     "data": {
      "text/html": [
       "<div>\n",
       "<style scoped>\n",
       "    .dataframe tbody tr th:only-of-type {\n",
       "        vertical-align: middle;\n",
       "    }\n",
       "\n",
       "    .dataframe tbody tr th {\n",
       "        vertical-align: top;\n",
       "    }\n",
       "\n",
       "    .dataframe thead th {\n",
       "        text-align: right;\n",
       "    }\n",
       "</style>\n",
       "<table border=\"1\" class=\"dataframe\">\n",
       "  <thead>\n",
       "    <tr style=\"text-align: right;\">\n",
       "      <th></th>\n",
       "      <th>AGE</th>\n",
       "      <th>SEX</th>\n",
       "      <th>STEROID</th>\n",
       "      <th>ANTIVIRALS</th>\n",
       "      <th>FATIGUE</th>\n",
       "      <th>MALAISE</th>\n",
       "      <th>ANOREXIA</th>\n",
       "      <th>LIVER_BIG</th>\n",
       "      <th>LIVER_FIRM</th>\n",
       "      <th>SPLEEN_PALPABLE</th>\n",
       "      <th>SPIDERS</th>\n",
       "      <th>ASCITES</th>\n",
       "      <th>VARICES</th>\n",
       "      <th>BILIRUBIN</th>\n",
       "      <th>ALK_PHOSPHATE</th>\n",
       "      <th>SGOT</th>\n",
       "      <th>ALBUMIN</th>\n",
       "      <th>PROTIME</th>\n",
       "      <th>HISTOLOGY</th>\n",
       "      <th>CLASS</th>\n",
       "    </tr>\n",
       "  </thead>\n",
       "  <tbody>\n",
       "    <tr>\n",
       "      <th>mean</th>\n",
       "      <td>41.200000</td>\n",
       "      <td>1.103226</td>\n",
       "      <td>1.506494</td>\n",
       "      <td>1.845161</td>\n",
       "      <td>1.350649</td>\n",
       "      <td>1.603896</td>\n",
       "      <td>1.792208</td>\n",
       "      <td>1.827586</td>\n",
       "      <td>1.583333</td>\n",
       "      <td>1.80000</td>\n",
       "      <td>1.660000</td>\n",
       "      <td>1.866667</td>\n",
       "      <td>1.88000</td>\n",
       "      <td>1.427517</td>\n",
       "      <td>105.325397</td>\n",
       "      <td>85.89404</td>\n",
       "      <td>3.817266</td>\n",
       "      <td>61.852273</td>\n",
       "      <td>1.451613</td>\n",
       "      <td>1.793548</td>\n",
       "    </tr>\n",
       "    <tr>\n",
       "      <th>std</th>\n",
       "      <td>12.565878</td>\n",
       "      <td>0.305240</td>\n",
       "      <td>0.501589</td>\n",
       "      <td>0.362923</td>\n",
       "      <td>0.478730</td>\n",
       "      <td>0.490682</td>\n",
       "      <td>0.407051</td>\n",
       "      <td>0.379049</td>\n",
       "      <td>0.494727</td>\n",
       "      <td>0.40134</td>\n",
       "      <td>0.475296</td>\n",
       "      <td>0.341073</td>\n",
       "      <td>0.32605</td>\n",
       "      <td>1.212149</td>\n",
       "      <td>51.508109</td>\n",
       "      <td>89.65089</td>\n",
       "      <td>0.651523</td>\n",
       "      <td>22.875244</td>\n",
       "      <td>0.499266</td>\n",
       "      <td>0.406070</td>\n",
       "    </tr>\n",
       "  </tbody>\n",
       "</table>\n",
       "</div>"
      ],
      "text/plain": [
       "            AGE       SEX   STEROID  ANTIVIRALS   FATIGUE   MALAISE  ANOREXIA  \\\n",
       "mean  41.200000  1.103226  1.506494    1.845161  1.350649  1.603896  1.792208   \n",
       "std   12.565878  0.305240  0.501589    0.362923  0.478730  0.490682  0.407051   \n",
       "\n",
       "      LIVER_BIG  LIVER_FIRM  SPLEEN_PALPABLE   SPIDERS   ASCITES  VARICES  \\\n",
       "mean   1.827586    1.583333          1.80000  1.660000  1.866667  1.88000   \n",
       "std    0.379049    0.494727          0.40134  0.475296  0.341073  0.32605   \n",
       "\n",
       "      BILIRUBIN  ALK_PHOSPHATE      SGOT   ALBUMIN    PROTIME  HISTOLOGY  \\\n",
       "mean   1.427517     105.325397  85.89404  3.817266  61.852273   1.451613   \n",
       "std    1.212149      51.508109  89.65089  0.651523  22.875244   0.499266   \n",
       "\n",
       "         CLASS  \n",
       "mean  1.793548  \n",
       "std   0.406070  "
      ]
     },
     "execution_count": 191,
     "metadata": {},
     "output_type": "execute_result"
    }
   ],
   "source": [
    "df.agg([\"mean\", \"std\"])"
   ]
  },
  {
   "cell_type": "markdown",
   "metadata": {},
   "source": [
    "Para os dados nominais, ou seja, os dados que dizem \"sim\" ou \"não\" no nosso dataset, podemos observar a média para descobrir se temos mais registros de uma classe ou outra. \n",
    "\n",
    "Por exemplo: com a média da sobrevivência da hepatite em 1.79, podemos ter certeza que temos mais dados de sobrevivente (classe 2) que mortos (classe 1).\n",
    "\n",
    "Para esses dados, no entanto, o desvio padrão não traz nenhuma informação nova, já que são sempre apenas 1 ou 2."
   ]
  },
  {
   "cell_type": "markdown",
   "metadata": {},
   "source": [
    "Para os dados intervalares, por outro lado, tanto a média quanto o desvio padrão têm seu interesse.\n",
    "\n",
    "Podemos ver, por exemplo, que a média de idade é 41 anos, e a maioria das pessoas da pesquisa estão entre 29 e 53 anos.\n",
    "\n",
    "A variável SGOT tem um desvio padrão de 89.65, proporcionalmente muito alta à sua média, e a ALBUMIN tem uma distribuição muito menor, com desvio de 0.6.\n",
    "\n",
    "<!-- Variáveis com desvio muito alto podem ter uma divisão em uma floresta randômica muito mais clara que as de desvio menor, tendo um potencial de ganho de informação mais interessante. -->"
   ]
  },
  {
   "cell_type": "markdown",
   "metadata": {},
   "source": [
    "Histograma é uma forma de visualização de dados muito interessante para dados intervalares, podemos tomar conclusões sobre inúmeras coisas, inclusive sobre distribuição normal:"
   ]
  },
  {
   "cell_type": "code",
   "execution_count": 192,
   "metadata": {},
   "outputs": [
    {
     "data": {
      "image/png": "[encoded data removed]",
      "text/plain": [
       "<Figure size 1080x576 with 6 Axes>"
      ]
     },
     "metadata": {
      "needs_background": "light"
     },
     "output_type": "display_data"
    }
   ],
   "source": [
    "_, matrix = plt.subplots(2, 3, figsize=(15, 8))\n",
    "\n",
    "sns.histplot(df.AGE, ax=matrix[0][0])\n",
    "sns.histplot(df.BILIRUBIN, ax=matrix[0][2])\n",
    "sns.histplot(df.ALK_PHOSPHATE, ax=matrix[0][1])\n",
    "sns.histplot(df.SGOT, ax=matrix[1][0])\n",
    "sns.histplot(df.ALBUMIN, ax=matrix[1][1])\n",
    "sns.histplot(df.PROTIME, ax=matrix[1][2])\n",
    "\n",
    "plt.show()"
   ]
  },
  {
   "cell_type": "markdown",
   "metadata": {},
   "source": [
    "A partir desses gráficos podemos observar que a maioria dos dados têm, de fato, uma distribuição aproximadamente normal. É visualmente claro que não é perfeito, mas isso se dá à natureza dos dados, e não da presença de viés.\n",
    "\n",
    "Por exemplo: o normal para o teste SGOT é obter um número baixo, entre 8 e 45. Quanto mais baixo, melhor, mas danos em órgãos que contêm enzimas podem causar um resultado numérico maior. É exatamente por isso que os dados têm uma aparência de curva descendente, quanto mais alto, mais raro (e mais preocupante, medicamente falando).\n",
    "\n",
    "Esse padrão também segue no teste BILIRUBIN, que possui mais ou menos a mesma aparência."
   ]
  },
  {
   "cell_type": "markdown",
   "metadata": {},
   "source": [
    "## Pré-processamento dos dados"
   ]
  },
  {
   "cell_type": "markdown",
   "metadata": {},
   "source": [
    "O problema que temos que resolver agora é que existem muitos registros sem dados. Ou seja, muitas informações faltando. É possível simplesmente ignorar isso em alguns modelos de machine learning, pois eles sabem lidar com isso internamente. Porém, os modelos da sklearn não estão nesse conjunto."
   ]
  },
  {
   "cell_type": "code",
   "execution_count": 193,
   "metadata": {},
   "outputs": [
    {
     "name": "stdout",
     "output_type": "stream",
     "text": [
      "Existem 75 linhas com dados faltando\n"
     ]
    }
   ],
   "source": [
    "na_series = df.isna().sum(axis=1)\n",
    "na_qtd = (na_series > 0).sum()\n",
    "print(f\"Existem {na_qtd} linhas com dados faltando\")"
   ]
  },
  {
   "cell_type": "markdown",
   "metadata": {},
   "source": [
    "<!-- Como estamos usando a biblioteca sklearn, precisamos substituir todos os dados faltando por algum dado numérico. Originalmente esses dados eram \"?\", mas foram substituídos por NaN para a análise de dados. Agora, precisamos colocar um valor numérico válido. -->\n",
    "\n",
    "O jeito mais prático de lidar com os registros em branco é apagar eles do banco de dados, mas temos pouquíssimos dados pra trabalhar, então perderemos informação demais. Precisamos encontrar um caminho melhor.\n",
    "\n",
    "<!-- Existem vários jeitos de substituir esse valor, e o mais simples deles é simplesmente substituir pela média do respectivo valor no dataset. Usaremos essa estratégia. -->\n",
    "Existem vários jeitos de substituir esse valor, como substituir pela média ou pela moda da coluna em questão. Usaremos a média para as variáveis intervalares, e a moda para as variáveis categóricas."
   ]
  },
  {
   "cell_type": "code",
   "execution_count": 194,
   "metadata": {},
   "outputs": [
    {
     "data": {
      "text/html": [
       "<div>\n",
       "<style scoped>\n",
       "    .dataframe tbody tr th:only-of-type {\n",
       "        vertical-align: middle;\n",
       "    }\n",
       "\n",
       "    .dataframe tbody tr th {\n",
       "        vertical-align: top;\n",
       "    }\n",
       "\n",
       "    .dataframe thead th {\n",
       "        text-align: right;\n",
       "    }\n",
       "</style>\n",
       "<table border=\"1\" class=\"dataframe\">\n",
       "  <thead>\n",
       "    <tr style=\"text-align: right;\">\n",
       "      <th></th>\n",
       "      <th>AGE</th>\n",
       "      <th>SEX</th>\n",
       "      <th>STEROID</th>\n",
       "      <th>ANTIVIRALS</th>\n",
       "      <th>FATIGUE</th>\n",
       "      <th>MALAISE</th>\n",
       "      <th>ANOREXIA</th>\n",
       "      <th>LIVER_BIG</th>\n",
       "      <th>LIVER_FIRM</th>\n",
       "      <th>SPLEEN_PALPABLE</th>\n",
       "      <th>SPIDERS</th>\n",
       "      <th>ASCITES</th>\n",
       "      <th>VARICES</th>\n",
       "      <th>BILIRUBIN</th>\n",
       "      <th>ALK_PHOSPHATE</th>\n",
       "      <th>SGOT</th>\n",
       "      <th>ALBUMIN</th>\n",
       "      <th>PROTIME</th>\n",
       "      <th>HISTOLOGY</th>\n",
       "      <th>CLASS</th>\n",
       "    </tr>\n",
       "  </thead>\n",
       "  <tbody>\n",
       "    <tr>\n",
       "      <th>0</th>\n",
       "      <td>23.0</td>\n",
       "      <td>1.0</td>\n",
       "      <td>2.0</td>\n",
       "      <td>2.0</td>\n",
       "      <td>2.0</td>\n",
       "      <td>2.0</td>\n",
       "      <td>2.0</td>\n",
       "      <td>2.0</td>\n",
       "      <td>2.0</td>\n",
       "      <td>2.0</td>\n",
       "      <td>2.0</td>\n",
       "      <td>2.0</td>\n",
       "      <td>2.0</td>\n",
       "      <td>1.0</td>\n",
       "      <td>105.325397</td>\n",
       "      <td>85.89404</td>\n",
       "      <td>3.817266</td>\n",
       "      <td>61.852273</td>\n",
       "      <td>1.0</td>\n",
       "      <td>2</td>\n",
       "    </tr>\n",
       "    <tr>\n",
       "      <th>1</th>\n",
       "      <td>43.0</td>\n",
       "      <td>1.0</td>\n",
       "      <td>2.0</td>\n",
       "      <td>2.0</td>\n",
       "      <td>1.0</td>\n",
       "      <td>2.0</td>\n",
       "      <td>2.0</td>\n",
       "      <td>2.0</td>\n",
       "      <td>2.0</td>\n",
       "      <td>1.0</td>\n",
       "      <td>1.0</td>\n",
       "      <td>1.0</td>\n",
       "      <td>2.0</td>\n",
       "      <td>1.2</td>\n",
       "      <td>100.000000</td>\n",
       "      <td>19.00000</td>\n",
       "      <td>3.100000</td>\n",
       "      <td>42.000000</td>\n",
       "      <td>2.0</td>\n",
       "      <td>1</td>\n",
       "    </tr>\n",
       "    <tr>\n",
       "      <th>2</th>\n",
       "      <td>48.0</td>\n",
       "      <td>1.0</td>\n",
       "      <td>1.0</td>\n",
       "      <td>2.0</td>\n",
       "      <td>1.0</td>\n",
       "      <td>1.0</td>\n",
       "      <td>2.0</td>\n",
       "      <td>2.0</td>\n",
       "      <td>1.0</td>\n",
       "      <td>2.0</td>\n",
       "      <td>1.0</td>\n",
       "      <td>1.0</td>\n",
       "      <td>1.0</td>\n",
       "      <td>4.8</td>\n",
       "      <td>123.000000</td>\n",
       "      <td>157.00000</td>\n",
       "      <td>2.700000</td>\n",
       "      <td>31.000000</td>\n",
       "      <td>2.0</td>\n",
       "      <td>1</td>\n",
       "    </tr>\n",
       "    <tr>\n",
       "      <th>3</th>\n",
       "      <td>34.0</td>\n",
       "      <td>1.0</td>\n",
       "      <td>1.0</td>\n",
       "      <td>2.0</td>\n",
       "      <td>1.0</td>\n",
       "      <td>1.0</td>\n",
       "      <td>2.0</td>\n",
       "      <td>1.0</td>\n",
       "      <td>1.0</td>\n",
       "      <td>2.0</td>\n",
       "      <td>1.0</td>\n",
       "      <td>2.0</td>\n",
       "      <td>2.0</td>\n",
       "      <td>2.8</td>\n",
       "      <td>127.000000</td>\n",
       "      <td>182.00000</td>\n",
       "      <td>3.817266</td>\n",
       "      <td>61.852273</td>\n",
       "      <td>1.0</td>\n",
       "      <td>1</td>\n",
       "    </tr>\n",
       "    <tr>\n",
       "      <th>4</th>\n",
       "      <td>36.0</td>\n",
       "      <td>1.0</td>\n",
       "      <td>1.0</td>\n",
       "      <td>2.0</td>\n",
       "      <td>2.0</td>\n",
       "      <td>2.0</td>\n",
       "      <td>2.0</td>\n",
       "      <td>2.0</td>\n",
       "      <td>2.0</td>\n",
       "      <td>1.0</td>\n",
       "      <td>2.0</td>\n",
       "      <td>2.0</td>\n",
       "      <td>2.0</td>\n",
       "      <td>0.8</td>\n",
       "      <td>85.000000</td>\n",
       "      <td>44.00000</td>\n",
       "      <td>4.200000</td>\n",
       "      <td>85.000000</td>\n",
       "      <td>1.0</td>\n",
       "      <td>2</td>\n",
       "    </tr>\n",
       "    <tr>\n",
       "      <th>...</th>\n",
       "      <td>...</td>\n",
       "      <td>...</td>\n",
       "      <td>...</td>\n",
       "      <td>...</td>\n",
       "      <td>...</td>\n",
       "      <td>...</td>\n",
       "      <td>...</td>\n",
       "      <td>...</td>\n",
       "      <td>...</td>\n",
       "      <td>...</td>\n",
       "      <td>...</td>\n",
       "      <td>...</td>\n",
       "      <td>...</td>\n",
       "      <td>...</td>\n",
       "      <td>...</td>\n",
       "      <td>...</td>\n",
       "      <td>...</td>\n",
       "      <td>...</td>\n",
       "      <td>...</td>\n",
       "      <td>...</td>\n",
       "    </tr>\n",
       "    <tr>\n",
       "      <th>150</th>\n",
       "      <td>54.0</td>\n",
       "      <td>1.0</td>\n",
       "      <td>1.0</td>\n",
       "      <td>2.0</td>\n",
       "      <td>1.0</td>\n",
       "      <td>1.0</td>\n",
       "      <td>2.0</td>\n",
       "      <td>2.0</td>\n",
       "      <td>2.0</td>\n",
       "      <td>1.0</td>\n",
       "      <td>2.0</td>\n",
       "      <td>1.0</td>\n",
       "      <td>2.0</td>\n",
       "      <td>3.9</td>\n",
       "      <td>120.000000</td>\n",
       "      <td>28.00000</td>\n",
       "      <td>3.500000</td>\n",
       "      <td>43.000000</td>\n",
       "      <td>2.0</td>\n",
       "      <td>1</td>\n",
       "    </tr>\n",
       "    <tr>\n",
       "      <th>151</th>\n",
       "      <td>47.0</td>\n",
       "      <td>1.0</td>\n",
       "      <td>2.0</td>\n",
       "      <td>2.0</td>\n",
       "      <td>2.0</td>\n",
       "      <td>2.0</td>\n",
       "      <td>2.0</td>\n",
       "      <td>2.0</td>\n",
       "      <td>2.0</td>\n",
       "      <td>2.0</td>\n",
       "      <td>1.0</td>\n",
       "      <td>2.0</td>\n",
       "      <td>1.0</td>\n",
       "      <td>2.0</td>\n",
       "      <td>84.000000</td>\n",
       "      <td>23.00000</td>\n",
       "      <td>4.200000</td>\n",
       "      <td>66.000000</td>\n",
       "      <td>2.0</td>\n",
       "      <td>1</td>\n",
       "    </tr>\n",
       "    <tr>\n",
       "      <th>152</th>\n",
       "      <td>36.0</td>\n",
       "      <td>1.0</td>\n",
       "      <td>1.0</td>\n",
       "      <td>2.0</td>\n",
       "      <td>2.0</td>\n",
       "      <td>2.0</td>\n",
       "      <td>2.0</td>\n",
       "      <td>2.0</td>\n",
       "      <td>2.0</td>\n",
       "      <td>2.0</td>\n",
       "      <td>2.0</td>\n",
       "      <td>2.0</td>\n",
       "      <td>2.0</td>\n",
       "      <td>1.1</td>\n",
       "      <td>141.000000</td>\n",
       "      <td>75.00000</td>\n",
       "      <td>3.300000</td>\n",
       "      <td>61.852273</td>\n",
       "      <td>2.0</td>\n",
       "      <td>2</td>\n",
       "    </tr>\n",
       "    <tr>\n",
       "      <th>153</th>\n",
       "      <td>25.0</td>\n",
       "      <td>2.0</td>\n",
       "      <td>1.0</td>\n",
       "      <td>1.0</td>\n",
       "      <td>2.0</td>\n",
       "      <td>2.0</td>\n",
       "      <td>2.0</td>\n",
       "      <td>2.0</td>\n",
       "      <td>2.0</td>\n",
       "      <td>2.0</td>\n",
       "      <td>2.0</td>\n",
       "      <td>2.0</td>\n",
       "      <td>2.0</td>\n",
       "      <td>0.4</td>\n",
       "      <td>45.000000</td>\n",
       "      <td>18.00000</td>\n",
       "      <td>4.300000</td>\n",
       "      <td>70.000000</td>\n",
       "      <td>1.0</td>\n",
       "      <td>2</td>\n",
       "    </tr>\n",
       "    <tr>\n",
       "      <th>154</th>\n",
       "      <td>49.0</td>\n",
       "      <td>1.0</td>\n",
       "      <td>2.0</td>\n",
       "      <td>2.0</td>\n",
       "      <td>1.0</td>\n",
       "      <td>1.0</td>\n",
       "      <td>2.0</td>\n",
       "      <td>2.0</td>\n",
       "      <td>2.0</td>\n",
       "      <td>2.0</td>\n",
       "      <td>2.0</td>\n",
       "      <td>2.0</td>\n",
       "      <td>2.0</td>\n",
       "      <td>0.8</td>\n",
       "      <td>103.000000</td>\n",
       "      <td>43.00000</td>\n",
       "      <td>3.500000</td>\n",
       "      <td>66.000000</td>\n",
       "      <td>1.0</td>\n",
       "      <td>2</td>\n",
       "    </tr>\n",
       "  </tbody>\n",
       "</table>\n",
       "<p>155 rows × 20 columns</p>\n",
       "</div>"
      ],
      "text/plain": [
       "      AGE  SEX  STEROID  ANTIVIRALS  FATIGUE  MALAISE  ANOREXIA  LIVER_BIG  \\\n",
       "0    23.0  1.0      2.0         2.0      2.0      2.0       2.0        2.0   \n",
       "1    43.0  1.0      2.0         2.0      1.0      2.0       2.0        2.0   \n",
       "2    48.0  1.0      1.0         2.0      1.0      1.0       2.0        2.0   \n",
       "3    34.0  1.0      1.0         2.0      1.0      1.0       2.0        1.0   \n",
       "4    36.0  1.0      1.0         2.0      2.0      2.0       2.0        2.0   \n",
       "..    ...  ...      ...         ...      ...      ...       ...        ...   \n",
       "150  54.0  1.0      1.0         2.0      1.0      1.0       2.0        2.0   \n",
       "151  47.0  1.0      2.0         2.0      2.0      2.0       2.0        2.0   \n",
       "152  36.0  1.0      1.0         2.0      2.0      2.0       2.0        2.0   \n",
       "153  25.0  2.0      1.0         1.0      2.0      2.0       2.0        2.0   \n",
       "154  49.0  1.0      2.0         2.0      1.0      1.0       2.0        2.0   \n",
       "\n",
       "     LIVER_FIRM  SPLEEN_PALPABLE  SPIDERS  ASCITES  VARICES  BILIRUBIN  \\\n",
       "0           2.0              2.0      2.0      2.0      2.0        1.0   \n",
       "1           2.0              1.0      1.0      1.0      2.0        1.2   \n",
       "2           1.0              2.0      1.0      1.0      1.0        4.8   \n",
       "3           1.0              2.0      1.0      2.0      2.0        2.8   \n",
       "4           2.0              1.0      2.0      2.0      2.0        0.8   \n",
       "..          ...              ...      ...      ...      ...        ...   \n",
       "150         2.0              1.0      2.0      1.0      2.0        3.9   \n",
       "151         2.0              2.0      1.0      2.0      1.0        2.0   \n",
       "152         2.0              2.0      2.0      2.0      2.0        1.1   \n",
       "153         2.0              2.0      2.0      2.0      2.0        0.4   \n",
       "154         2.0              2.0      2.0      2.0      2.0        0.8   \n",
       "\n",
       "     ALK_PHOSPHATE       SGOT   ALBUMIN    PROTIME  HISTOLOGY  CLASS  \n",
       "0       105.325397   85.89404  3.817266  61.852273        1.0      2  \n",
       "1       100.000000   19.00000  3.100000  42.000000        2.0      1  \n",
       "2       123.000000  157.00000  2.700000  31.000000        2.0      1  \n",
       "3       127.000000  182.00000  3.817266  61.852273        1.0      1  \n",
       "4        85.000000   44.00000  4.200000  85.000000        1.0      2  \n",
       "..             ...        ...       ...        ...        ...    ...  \n",
       "150     120.000000   28.00000  3.500000  43.000000        2.0      1  \n",
       "151      84.000000   23.00000  4.200000  66.000000        2.0      1  \n",
       "152     141.000000   75.00000  3.300000  61.852273        2.0      2  \n",
       "153      45.000000   18.00000  4.300000  70.000000        1.0      2  \n",
       "154     103.000000   43.00000  3.500000  66.000000        1.0      2  \n",
       "\n",
       "[155 rows x 20 columns]"
      ]
     },
     "execution_count": 194,
     "metadata": {},
     "output_type": "execute_result"
    }
   ],
   "source": [
    "from sklearn.impute import SimpleImputer\n",
    "\n",
    "# substituicao da categorico por moda\n",
    "categorical_columns = [\"SEX\", \"STEROID\", \"ANTIVIRALS\", \"FATIGUE\", \"MALAISE\", \"ANOREXIA\", \"LIVER_BIG\", \"LIVER_FIRM\", \"SPLEEN_PALPABLE\", \"SPIDERS\", \"ASCITES\", \"VARICES\", \"HISTOLOGY\"]\n",
    "df_cat = df[categorical_columns]\n",
    "\n",
    "imp_frequent = SimpleImputer(missing_values=np.nan, strategy=\"most_frequent\")\n",
    "df_cat = pd.DataFrame(imp_frequent.fit_transform(df_cat))\n",
    "\n",
    "df_cat.columns = categorical_columns\n",
    "df[categorical_columns] = df_cat\n",
    "\n",
    "# substituicao da intervalar por media\n",
    "interval_columns = [\"AGE\", \"BILIRUBIN\", \"ALK_PHOSPHATE\", \"SGOT\", \"ALBUMIN\", \"PROTIME\"]\n",
    "df_int = df[interval_columns]\n",
    "\n",
    "imp_mean = SimpleImputer(missing_values=np.nan, strategy=\"mean\")\n",
    "df_int = pd.DataFrame(imp_mean.fit_transform(df_int))\n",
    "\n",
    "df_int.columns = interval_columns\n",
    "df[interval_columns] = df_int\n",
    "\n",
    "df"
   ]
  },
  {
   "cell_type": "markdown",
   "metadata": {},
   "source": [
    "Também precisamos fazer a separação entre dataset de treino e dataset de teste."
   ]
  },
  {
   "cell_type": "code",
   "execution_count": 195,
   "metadata": {},
   "outputs": [
    {
     "data": {
      "text/plain": [
       "((140, 19), (140,), (15, 19), (15,))"
      ]
     },
     "execution_count": 195,
     "metadata": {},
     "output_type": "execute_result"
    }
   ],
   "source": [
    "df_train = df.sample(frac=0.9, random_state=random_state)\n",
    "df_test = df.drop(df_train.index)\n",
    "\n",
    "x_train = df_train.drop(columns=\"CLASS\")\n",
    "y_train = df_train.CLASS\n",
    "\n",
    "x_test = df_test.drop(columns=\"CLASS\")\n",
    "y_test = df_test.CLASS\n",
    "\n",
    "x_train.shape, y_train.shape, x_test.shape, y_test.shape"
   ]
  },
  {
   "cell_type": "markdown",
   "metadata": {},
   "source": [
    "## Modelos de Machine Learning"
   ]
  },
  {
   "cell_type": "markdown",
   "metadata": {},
   "source": [
    "A função `eval_model` será a função principal para avaliar cada um dos três modelos que trabalharemos aqui: uma árvore de decisão e duas florestas randômicas.\n",
    "\n",
    "Ela recebe um modelo e gera a previsão, em cima do dataset de treino, através da validação cruzada. Com essa predição, geraremos a matriz de confusão e a curva ROC, com a pontuação AUC"
   ]
  },
  {
   "cell_type": "code",
   "execution_count": 196,
   "metadata": {},
   "outputs": [],
   "source": [
    "def generate_confusion_matrix(y_true, y_pred):\n",
    "  \"\"\"Função que gera gráfico de matriz de confusão\n",
    "\n",
    "  Args:\n",
    "      y_true (DataFrame): labels verdadeiras dos dados\n",
    "      y_pred (DataFrame): labels previstas dos dados\n",
    "\n",
    "  Returns:\n",
    "      Objeto de gráfico pyplot\n",
    "  \"\"\"\n",
    "  conf_mat = confusion_matrix(y_true, y_pred)\n",
    "  return sns.heatmap(conf_mat, annot=True, xticklabels=[\"actual dead\", \"actual alive\"], yticklabels=[\"pred dead\", \"pred alive\"])\n",
    "\n",
    "def generate_roc_auc_curve(y_true, y_pred):\n",
    "  \"\"\"Função que gera gráfico de curva roc_auc\n",
    "\n",
    "  Args:\n",
    "      y_true (DataFrame): labels verdadeiras dos dados\n",
    "      y_pred (DataFrame): labels previstas dos dados\n",
    "\n",
    "  Returns:\n",
    "      Objeto de gráfico pyplot\n",
    "  \"\"\"\n",
    "  fp, tp, _ = roc_curve(y_true, y_pred, pos_label=2)\n",
    "  return metrics.RocCurveDisplay(fpr = fp, tpr = tp, pos_label=2).from_predictions(y_true, y_pred, pos_label=2)\n",
    "\n",
    "def eval_model(model, x_train, y_train):\n",
    "  \"\"\"Função que avalia determinado modelo de machine learning, gerando gráficos através da validação cruzada\n",
    "\n",
    "  Args:\n",
    "      model: sklearn machine learning model\n",
    "      x_train (DataFrame): dados do conjunto de treinamento\n",
    "      y_train (DataFrame): labels do conjunto de treinamento\n",
    "  \"\"\"\n",
    "  y_pred = cross_val_predict(model, x_train, y_train, cv=10)\n",
    "  generate_confusion_matrix(y_train, y_pred)\n",
    "  generate_roc_auc_curve(y_train, y_pred)"
   ]
  },
  {
   "cell_type": "markdown",
   "metadata": {},
   "source": [
    "### Árvore de Decisão"
   ]
  },
  {
   "cell_type": "code",
   "execution_count": 197,
   "metadata": {},
   "outputs": [
    {
     "data": {
      "image/png": "[encoded data removed]",
      "text/plain": [
       "<Figure size 432x288 with 2 Axes>"
      ]
     },
     "metadata": {
      "needs_background": "light"
     },
     "output_type": "display_data"
    },
    {
     "data": {
      "image/png": "[encoded data removed]",
      "text/plain": [
       "<Figure size 432x288 with 1 Axes>"
      ]
     },
     "metadata": {
      "needs_background": "light"
     },
     "output_type": "display_data"
    }
   ],
   "source": [
    "from sklearn import tree\n",
    "\n",
    "model_dt = tree.DecisionTreeClassifier(criterion=\"entropy\", max_features=19, random_state=random_state)\n",
    "\n",
    "eval_model(model_dt, x_train, y_train)"
   ]
  },
  {
   "cell_type": "markdown",
   "metadata": {},
   "source": [
    "### Floresta Randômica (19 preditores)"
   ]
  },
  {
   "cell_type": "code",
   "execution_count": 198,
   "metadata": {},
   "outputs": [
    {
     "data": {
      "image/png": "[encoded data removed]",
      "text/plain": [
       "<Figure size 432x288 with 2 Axes>"
      ]
     },
     "metadata": {
      "needs_background": "light"
     },
     "output_type": "display_data"
    },
    {
     "data": {
      "image/png": "[encoded data removed]",
      "text/plain": [
       "<Figure size 432x288 with 1 Axes>"
      ]
     },
     "metadata": {
      "needs_background": "light"
     },
     "output_type": "display_data"
    }
   ],
   "source": [
    "from sklearn.ensemble import RandomForestClassifier\n",
    "\n",
    "model_rf19 = RandomForestClassifier(n_estimators=100, criterion=\"entropy\", max_features=19, random_state=random_state)\n",
    "\n",
    "eval_model(model_rf19, x_train, y_train)"
   ]
  },
  {
   "cell_type": "markdown",
   "metadata": {},
   "source": [
    "### Floresta Randômica (4 preditores)"
   ]
  },
  {
   "cell_type": "code",
   "execution_count": 199,
   "metadata": {},
   "outputs": [
    {
     "data": {
      "image/png": "[encoded data removed]",
      "text/plain": [
       "<Figure size 432x288 with 2 Axes>"
      ]
     },
     "metadata": {
      "needs_background": "light"
     },
     "output_type": "display_data"
    },
    {
     "data": {
      "image/png": "[encoded data removed]",
      "text/plain": [
       "<Figure size 432x288 with 1 Axes>"
      ]
     },
     "metadata": {
      "needs_background": "light"
     },
     "output_type": "display_data"
    }
   ],
   "source": [
    "model_rf4 = RandomForestClassifier(n_estimators=100, criterion=\"entropy\", max_features=4, random_state=random_state)\n",
    "\n",
    "eval_model(model_rf4, x_train, y_train)"
   ]
  },
  {
   "cell_type": "markdown",
   "metadata": {},
   "source": [
    "## Análise de Resultados"
   ]
  },
  {
   "cell_type": "markdown",
   "metadata": {},
   "source": [
    "O melhor modelo que obtivemos foi a floresta randômica de 4 variáveis preditoras, de acordo com a pontuação AUC. Mas ela é superior à floresta de 19 variáveis por uma margem tão pequena que, com uma mudança no `random_state`, podemos encontrar um resultado diferente. Independentemente, declararemos ela a vencedora.\n",
    "\n",
    "Vamos resgatar aquele modelo e treiná-lo com o dataset de treino inteiro, dessa vez:"
   ]
  },
  {
   "cell_type": "code",
   "execution_count": 200,
   "metadata": {},
   "outputs": [
    {
     "name": "stdout",
     "output_type": "stream",
     "text": [
      "Accuracy: 0.8666666666666667\n",
      "Precision: 0.6666666666666666\n",
      "Recall: 0.6666666666666666\n",
      "F1: 0.6666666666666666\n"
     ]
    }
   ],
   "source": [
    "model_rf4.fit(x_train, y_train)\n",
    "y_predict = model_rf4.predict(x_test)\n",
    "\n",
    "print(f\"Accuracy: {metrics.accuracy_score(y_test, y_predict)}\")\n",
    "print(f\"Precision: {metrics.precision_score(y_test, y_predict)}\")\n",
    "print(f\"Recall: {metrics.recall_score(y_test, y_predict)}\")\n",
    "print(f\"F1: {metrics.f1_score(y_test, y_predict)}\")"
   ]
  },
  {
   "cell_type": "markdown",
   "metadata": {},
   "source": [
    "Podemos ver, através da alta na acurácia, mas relativa baixa precisão, que o modelo é muito melhor em classificar negativos (vivos) que positivos (mortos). Isso é um reflexo claro do desbalanceamento do dataset: existem muito mais pessoas vivas que mortas representadas no dataset. Podemos, também, obter a taxa de acerto para previsões de vivos no dataset:"
   ]
  },
  {
   "cell_type": "code",
   "execution_count": 201,
   "metadata": {},
   "outputs": [
    {
     "data": {
      "text/plain": [
       "0.9166666666666666"
      ]
     },
     "execution_count": 201,
     "metadata": {},
     "output_type": "execute_result"
    }
   ],
   "source": [
    "_, _, falso_morto, verdadeiro_vivo = confusion_matrix(y_test, y_predict).flatten()\n",
    "specificity = verdadeiro_vivo / (verdadeiro_vivo+falso_morto)\n",
    "specificity"
   ]
  },
  {
   "cell_type": "markdown",
   "metadata": {},
   "source": [
    "Também é de muito interesse ver quais são as features mais importantes do dataset, ou seja, as que mais influenciam na classificação:"
   ]
  },
  {
   "cell_type": "code",
   "execution_count": 206,
   "metadata": {},
   "outputs": [
    {
     "data": {
      "text/plain": [
       "ALBUMIN            0.165981\n",
       "BILIRUBIN          0.146815\n",
       "PROTIME            0.103909\n",
       "ALK_PHOSPHATE      0.089107\n",
       "AGE                0.086738\n",
       "SGOT               0.072021\n",
       "ASCITES            0.059188\n",
       "SPIDERS            0.052014\n",
       "FATIGUE            0.030699\n",
       "HISTOLOGY          0.030282\n",
       "VARICES            0.028822\n",
       "MALAISE            0.026512\n",
       "SPLEEN_PALPABLE    0.024207\n",
       "STEROID            0.020183\n",
       "LIVER_FIRM         0.018135\n",
       "LIVER_BIG          0.016033\n",
       "ANOREXIA           0.015235\n",
       "SEX                0.010013\n",
       "ANTIVIRALS         0.004106\n",
       "Name: Feature Importance, dtype: float64"
      ]
     },
     "execution_count": 206,
     "metadata": {},
     "output_type": "execute_result"
    }
   ],
   "source": [
    "feature_importance = pd.Series(model_rf4.feature_importances_)\n",
    "feature_importance.name = \"Feature Importance\"\n",
    "feature_importance.index = x_train.columns\n",
    "feature_importance.sort_values(ascending=False)"
   ]
  },
  {
   "cell_type": "markdown",
   "metadata": {},
   "source": [
    "Ordenados por ordem de importância, vemos que os níveis da Albumina e o teste de Bilirrubina são os mais relevantes na classificação, enquanto as variáveis de sexo e anti-virais, pouco importam. É possível, inclusive, que elas realmente não influenciam em nada, mas por uma coincidência, elas trouxeram algum nível de segregação de classes no modelo. Apenas um especialista ou mais dados podem confirmar essa hipótese"
   ]
  }
 ],
 "metadata": {
  "kernelspec": {
   "display_name": "Python 3.9.13 64-bit",
   "language": "python",
   "name": "python3"
  },
  "language_info": {
   "codemirror_mode": {
    "name": "ipython",
    "version": 3
   },
   "file_extension": ".py",
   "mimetype": "text/x-python",
   "name": "python",
   "nbconvert_exporter": "python",
   "pygments_lexer": "ipython3",
   "version": "3.9.13"
  },
  "orig_nbformat": 4,
  "vscode": {
   "interpreter": {
    "hash": "3c3fdd1ba6fa6149e0a55b9d95e637df8fd62d3a04e8e673bb353b444f545e4d"
   }
  }
 },
 "nbformat": 4,
 "nbformat_minor": 2
}
