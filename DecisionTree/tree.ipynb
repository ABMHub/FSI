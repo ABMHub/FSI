{
 "cells": [
  {
   "cell_type": "markdown",
   "metadata": {},
   "source": [
    "Importar a biblioteca sklearn (scikit learn), responsável pelos algoritmos de \"machine learning clássicos\".\n",
    "Importar graphviz para visualização da árvore de decisão"
   ]
  },
  {
   "cell_type": "code",
   "execution_count": 118,
   "metadata": {},
   "outputs": [],
   "source": [
    "from sklearn import tree\n",
    "import pandas as pd\n",
    "import graphviz"
   ]
  },
  {
   "cell_type": "markdown",
   "metadata": {},
   "source": [
    "Renomeei as colunas para facilitar a manipulação"
   ]
  },
  {
   "cell_type": "code",
   "execution_count": 119,
   "metadata": {},
   "outputs": [
    {
     "data": {
      "text/html": [
       "<div>\n",
       "<style scoped>\n",
       "    .dataframe tbody tr th:only-of-type {\n",
       "        vertical-align: middle;\n",
       "    }\n",
       "\n",
       "    .dataframe tbody tr th {\n",
       "        vertical-align: top;\n",
       "    }\n",
       "\n",
       "    .dataframe thead th {\n",
       "        text-align: right;\n",
       "    }\n",
       "</style>\n",
       "<table border=\"1\" class=\"dataframe\">\n",
       "  <thead>\n",
       "    <tr style=\"text-align: right;\">\n",
       "      <th></th>\n",
       "      <th>febre</th>\n",
       "      <th>dor</th>\n",
       "      <th>manchas</th>\n",
       "      <th>coceira</th>\n",
       "      <th>dia</th>\n",
       "    </tr>\n",
       "    <tr>\n",
       "      <th>Paciente</th>\n",
       "      <th></th>\n",
       "      <th></th>\n",
       "      <th></th>\n",
       "      <th></th>\n",
       "      <th></th>\n",
       "    </tr>\n",
       "  </thead>\n",
       "  <tbody>\n",
       "    <tr>\n",
       "      <th>P1</th>\n",
       "      <td>Alta</td>\n",
       "      <td>Frequente</td>\n",
       "      <td>Presente</td>\n",
       "      <td>Intensa</td>\n",
       "      <td>Emergência</td>\n",
       "    </tr>\n",
       "    <tr>\n",
       "      <th>P2</th>\n",
       "      <td>Moderada</td>\n",
       "      <td>Rara</td>\n",
       "      <td>Presente</td>\n",
       "      <td>Inexistente</td>\n",
       "      <td>Urgência</td>\n",
       "    </tr>\n",
       "    <tr>\n",
       "      <th>P3</th>\n",
       "      <td>Nenhuma</td>\n",
       "      <td>Frequente</td>\n",
       "      <td>Ausente</td>\n",
       "      <td>Inexistente</td>\n",
       "      <td>Mais_Exames</td>\n",
       "    </tr>\n",
       "    <tr>\n",
       "      <th>P4</th>\n",
       "      <td>Alta</td>\n",
       "      <td>Frequente</td>\n",
       "      <td>Ausente</td>\n",
       "      <td>Intensa</td>\n",
       "      <td>Emergência</td>\n",
       "    </tr>\n",
       "    <tr>\n",
       "      <th>P5</th>\n",
       "      <td>Moderada</td>\n",
       "      <td>Permanente</td>\n",
       "      <td>Presente</td>\n",
       "      <td>Inexistente</td>\n",
       "      <td>Urgência</td>\n",
       "    </tr>\n",
       "    <tr>\n",
       "      <th>P6</th>\n",
       "      <td>Moderada</td>\n",
       "      <td>Permanente</td>\n",
       "      <td>Ausente</td>\n",
       "      <td>Intensa</td>\n",
       "      <td>Urgência</td>\n",
       "    </tr>\n",
       "    <tr>\n",
       "      <th>P7</th>\n",
       "      <td>Alta</td>\n",
       "      <td>Permanente</td>\n",
       "      <td>Presente</td>\n",
       "      <td>Inexistente</td>\n",
       "      <td>Emergência</td>\n",
       "    </tr>\n",
       "    <tr>\n",
       "      <th>P8</th>\n",
       "      <td>Alta</td>\n",
       "      <td>Permanente</td>\n",
       "      <td>Ausente</td>\n",
       "      <td>Inexistente</td>\n",
       "      <td>Emergência</td>\n",
       "    </tr>\n",
       "    <tr>\n",
       "      <th>P9</th>\n",
       "      <td>Moderada</td>\n",
       "      <td>Frequente</td>\n",
       "      <td>Ausente</td>\n",
       "      <td>Moderada</td>\n",
       "      <td>Mais_Exames</td>\n",
       "    </tr>\n",
       "    <tr>\n",
       "      <th>P10</th>\n",
       "      <td>Moderada</td>\n",
       "      <td>Frequente</td>\n",
       "      <td>Ausente</td>\n",
       "      <td>Intensa</td>\n",
       "      <td>Emergência</td>\n",
       "    </tr>\n",
       "    <tr>\n",
       "      <th>P11</th>\n",
       "      <td>Nenhuma</td>\n",
       "      <td>Rara</td>\n",
       "      <td>Presente</td>\n",
       "      <td>Moderada</td>\n",
       "      <td>Mais_Exames</td>\n",
       "    </tr>\n",
       "    <tr>\n",
       "      <th>P12</th>\n",
       "      <td>Alta</td>\n",
       "      <td>Rara</td>\n",
       "      <td>Presente</td>\n",
       "      <td>Moderada</td>\n",
       "      <td>Urgência</td>\n",
       "    </tr>\n",
       "  </tbody>\n",
       "</table>\n",
       "</div>"
      ],
      "text/plain": [
       "             febre         dor   manchas      coceira          dia\n",
       "Paciente                                                          \n",
       "P1            Alta   Frequente  Presente      Intensa   Emergência\n",
       "P2        Moderada        Rara  Presente  Inexistente     Urgência\n",
       "P3         Nenhuma   Frequente   Ausente  Inexistente  Mais_Exames\n",
       "P4            Alta   Frequente   Ausente      Intensa   Emergência\n",
       "P5        Moderada  Permanente  Presente  Inexistente     Urgência\n",
       "P6        Moderada  Permanente   Ausente      Intensa     Urgência\n",
       "P7            Alta  Permanente  Presente  Inexistente   Emergência\n",
       "P8            Alta  Permanente   Ausente  Inexistente   Emergência\n",
       "P9        Moderada   Frequente   Ausente     Moderada  Mais_Exames\n",
       "P10       Moderada   Frequente   Ausente      Intensa   Emergência\n",
       "P11        Nenhuma        Rara  Presente     Moderada  Mais_Exames\n",
       "P12           Alta        Rara  Presente     Moderada     Urgência"
      ]
     },
     "execution_count": 119,
     "metadata": {},
     "output_type": "execute_result"
    }
   ],
   "source": [
    "df = pd.read_csv(\"data_diagnostico.csv\", index_col=\"Paciente\")\n",
    "df.columns = [\"febre\", \"dor\", \"manchas\", \"coceira\", \"dia\"]\n",
    "df"
   ]
  },
  {
   "cell_type": "markdown",
   "metadata": {},
   "source": [
    "Importante: mapear todas as classes para números. A classe requer que todos os atributos sejam inteiros ou floats para fazer as comparações."
   ]
  },
  {
   "cell_type": "code",
   "execution_count": 120,
   "metadata": {},
   "outputs": [],
   "source": [
    "dfc = df.copy()\n",
    "\n",
    "febre_map = {\"Alta\": 2, \"Moderada\": 1, \"Nenhuma\": 0}\n",
    "dor_map = {\"Permanente\": 2, \"Frequente\": 1, \"Rara\": 0}\n",
    "manchas_map = {\"Presente\": 1, \"Ausente\": -1}\n",
    "coceira_map = {\"Intensa\": 2, \"Moderada\": 1, \"Inexistente\": 0}\n",
    "dia_map = {\"Emergência\": 2, \"Urgência\": 1, \"Mais_Exames\": 0}\n",
    "\n",
    "dfc.febre = dfc.febre.apply(lambda x: febre_map[x])\n",
    "dfc.dor = dfc.dor.apply(lambda x: dor_map[x])\n",
    "dfc.manchas = dfc.manchas.apply(lambda x: manchas_map[x])\n",
    "dfc.coceira = dfc.coceira.apply(lambda x: coceira_map[x])\n",
    "dfc.dia = dfc.dia.apply(lambda x: dia_map[x])"
   ]
  },
  {
   "cell_type": "markdown",
   "metadata": {},
   "source": [
    "Separar tabela em X e Y, ou seja, input e output.\n",
    "O diagnóstico é a coluna de output, e o resto é a coluna de input."
   ]
  },
  {
   "cell_type": "code",
   "execution_count": 121,
   "metadata": {},
   "outputs": [],
   "source": [
    "x = dfc[[\"febre\", \"dor\", \"manchas\", \"coceira\"]]\n",
    "y = dfc[\"dia\"]"
   ]
  },
  {
   "cell_type": "code",
   "execution_count": 122,
   "metadata": {},
   "outputs": [
    {
     "data": {
      "text/html": [
       "<div>\n",
       "<style scoped>\n",
       "    .dataframe tbody tr th:only-of-type {\n",
       "        vertical-align: middle;\n",
       "    }\n",
       "\n",
       "    .dataframe tbody tr th {\n",
       "        vertical-align: top;\n",
       "    }\n",
       "\n",
       "    .dataframe thead th {\n",
       "        text-align: right;\n",
       "    }\n",
       "</style>\n",
       "<table border=\"1\" class=\"dataframe\">\n",
       "  <thead>\n",
       "    <tr style=\"text-align: right;\">\n",
       "      <th></th>\n",
       "      <th>febre</th>\n",
       "      <th>dor</th>\n",
       "      <th>manchas</th>\n",
       "      <th>coceira</th>\n",
       "    </tr>\n",
       "    <tr>\n",
       "      <th>Paciente</th>\n",
       "      <th></th>\n",
       "      <th></th>\n",
       "      <th></th>\n",
       "      <th></th>\n",
       "    </tr>\n",
       "  </thead>\n",
       "  <tbody>\n",
       "    <tr>\n",
       "      <th>P1</th>\n",
       "      <td>2</td>\n",
       "      <td>1</td>\n",
       "      <td>1</td>\n",
       "      <td>2</td>\n",
       "    </tr>\n",
       "    <tr>\n",
       "      <th>P2</th>\n",
       "      <td>1</td>\n",
       "      <td>0</td>\n",
       "      <td>1</td>\n",
       "      <td>0</td>\n",
       "    </tr>\n",
       "    <tr>\n",
       "      <th>P3</th>\n",
       "      <td>0</td>\n",
       "      <td>1</td>\n",
       "      <td>-1</td>\n",
       "      <td>0</td>\n",
       "    </tr>\n",
       "    <tr>\n",
       "      <th>P4</th>\n",
       "      <td>2</td>\n",
       "      <td>1</td>\n",
       "      <td>-1</td>\n",
       "      <td>2</td>\n",
       "    </tr>\n",
       "    <tr>\n",
       "      <th>P5</th>\n",
       "      <td>1</td>\n",
       "      <td>2</td>\n",
       "      <td>1</td>\n",
       "      <td>0</td>\n",
       "    </tr>\n",
       "    <tr>\n",
       "      <th>P6</th>\n",
       "      <td>1</td>\n",
       "      <td>2</td>\n",
       "      <td>-1</td>\n",
       "      <td>2</td>\n",
       "    </tr>\n",
       "    <tr>\n",
       "      <th>P7</th>\n",
       "      <td>2</td>\n",
       "      <td>2</td>\n",
       "      <td>1</td>\n",
       "      <td>0</td>\n",
       "    </tr>\n",
       "    <tr>\n",
       "      <th>P8</th>\n",
       "      <td>2</td>\n",
       "      <td>2</td>\n",
       "      <td>-1</td>\n",
       "      <td>0</td>\n",
       "    </tr>\n",
       "    <tr>\n",
       "      <th>P9</th>\n",
       "      <td>1</td>\n",
       "      <td>1</td>\n",
       "      <td>-1</td>\n",
       "      <td>1</td>\n",
       "    </tr>\n",
       "    <tr>\n",
       "      <th>P10</th>\n",
       "      <td>1</td>\n",
       "      <td>1</td>\n",
       "      <td>-1</td>\n",
       "      <td>2</td>\n",
       "    </tr>\n",
       "    <tr>\n",
       "      <th>P11</th>\n",
       "      <td>0</td>\n",
       "      <td>0</td>\n",
       "      <td>1</td>\n",
       "      <td>1</td>\n",
       "    </tr>\n",
       "    <tr>\n",
       "      <th>P12</th>\n",
       "      <td>2</td>\n",
       "      <td>0</td>\n",
       "      <td>1</td>\n",
       "      <td>1</td>\n",
       "    </tr>\n",
       "  </tbody>\n",
       "</table>\n",
       "</div>"
      ],
      "text/plain": [
       "          febre  dor  manchas  coceira\n",
       "Paciente                              \n",
       "P1            2    1        1        2\n",
       "P2            1    0        1        0\n",
       "P3            0    1       -1        0\n",
       "P4            2    1       -1        2\n",
       "P5            1    2        1        0\n",
       "P6            1    2       -1        2\n",
       "P7            2    2        1        0\n",
       "P8            2    2       -1        0\n",
       "P9            1    1       -1        1\n",
       "P10           1    1       -1        2\n",
       "P11           0    0        1        1\n",
       "P12           2    0        1        1"
      ]
     },
     "execution_count": 122,
     "metadata": {},
     "output_type": "execute_result"
    }
   ],
   "source": [
    "x"
   ]
  },
  {
   "cell_type": "code",
   "execution_count": 123,
   "metadata": {},
   "outputs": [
    {
     "data": {
      "text/plain": [
       "Paciente\n",
       "P1     2\n",
       "P2     1\n",
       "P3     0\n",
       "P4     2\n",
       "P5     1\n",
       "P6     1\n",
       "P7     2\n",
       "P8     2\n",
       "P9     0\n",
       "P10    2\n",
       "P11    0\n",
       "P12    1\n",
       "Name: dia, dtype: int64"
      ]
     },
     "execution_count": 123,
     "metadata": {},
     "output_type": "execute_result"
    }
   ],
   "source": [
    "y"
   ]
  },
  {
   "cell_type": "code",
   "execution_count": 124,
   "metadata": {},
   "outputs": [],
   "source": [
    "def print_tree(t):\n",
    "  \"\"\"Função para printar a árvore de decisão de maneira bonitinha. Simplesmente encapsula as funções da graphviz\n",
    "\n",
    "  Args:\n",
    "      t (tree): a árvore de decisão treinada\n",
    "\n",
    "  Returns:\n",
    "      retorna a imagem renderizada\n",
    "  \"\"\"\n",
    "  a = tree.export_graphviz(t, None, feature_names=[\"Febre\", \"Dor_Muscular\", \"Manchas\", \"Coceira\"], class_names=['Mais Exames', 'Urgência', 'Emergência'], filled=True, rounded=True)\n",
    "  graph = graphviz.Source(a) \n",
    "  return graph"
   ]
  },
  {
   "cell_type": "code",
   "execution_count": 125,
   "metadata": {},
   "outputs": [
    {
     "data": {
      "image/svg+xml": "<?xml version=\"1.0\" encoding=\"UTF-8\" standalone=\"no\"?>\n<!DOCTYPE svg PUBLIC \"-//W3C//DTD SVG 1.1//EN\"\n \"http://www.w3.org/Graphics/SVG/1.1/DTD/svg11.dtd\">\n<!-- Generated by graphviz version 2.43.0 (0)\n -->\n<!-- Title: Tree Pages: 1 -->\n<svg width=\"521pt\" height=\"671pt\"\n viewBox=\"0.00 0.00 520.50 671.00\" xmlns=\"http://www.w3.org/2000/svg\" xmlns:xlink=\"http://www.w3.org/1999/xlink\">\n<g id=\"graph0\" class=\"graph\" transform=\"scale(1 1) rotate(0) translate(4 667)\">\n<title>Tree</title>\n<polygon fill=\"white\" stroke=\"transparent\" points=\"-4,4 -4,-667 516.5,-667 516.5,4 -4,4\"/>\n<!-- 0 -->\n<g id=\"node1\" class=\"node\">\n<title>0</title>\n<path fill=\"#efe6fc\" stroke=\"black\" d=\"M237.5,-663C237.5,-663 107.5,-663 107.5,-663 101.5,-663 95.5,-657 95.5,-651 95.5,-651 95.5,-592 95.5,-592 95.5,-586 101.5,-580 107.5,-580 107.5,-580 237.5,-580 237.5,-580 243.5,-580 249.5,-586 249.5,-592 249.5,-592 249.5,-651 249.5,-651 249.5,-657 243.5,-663 237.5,-663\"/>\n<text text-anchor=\"middle\" x=\"172.5\" y=\"-647.8\" font-family=\"Helvetica,sans-Serif\" font-size=\"14.00\">Febre &lt;= 0.5</text>\n<text text-anchor=\"middle\" x=\"172.5\" y=\"-632.8\" font-family=\"Helvetica,sans-Serif\" font-size=\"14.00\">entropy = 1.555</text>\n<text text-anchor=\"middle\" x=\"172.5\" y=\"-617.8\" font-family=\"Helvetica,sans-Serif\" font-size=\"14.00\">samples = 12</text>\n<text text-anchor=\"middle\" x=\"172.5\" y=\"-602.8\" font-family=\"Helvetica,sans-Serif\" font-size=\"14.00\">value = [3, 4, 5]</text>\n<text text-anchor=\"middle\" x=\"172.5\" y=\"-587.8\" font-family=\"Helvetica,sans-Serif\" font-size=\"14.00\">class = Emergência</text>\n</g>\n<!-- 1 -->\n<g id=\"node2\" class=\"node\">\n<title>1</title>\n<path fill=\"#e58139\" stroke=\"black\" d=\"M151,-536.5C151,-536.5 12,-536.5 12,-536.5 6,-536.5 0,-530.5 0,-524.5 0,-524.5 0,-480.5 0,-480.5 0,-474.5 6,-468.5 12,-468.5 12,-468.5 151,-468.5 151,-468.5 157,-468.5 163,-474.5 163,-480.5 163,-480.5 163,-524.5 163,-524.5 163,-530.5 157,-536.5 151,-536.5\"/>\n<text text-anchor=\"middle\" x=\"81.5\" y=\"-521.3\" font-family=\"Helvetica,sans-Serif\" font-size=\"14.00\">entropy = 0.0</text>\n<text text-anchor=\"middle\" x=\"81.5\" y=\"-506.3\" font-family=\"Helvetica,sans-Serif\" font-size=\"14.00\">samples = 2</text>\n<text text-anchor=\"middle\" x=\"81.5\" y=\"-491.3\" font-family=\"Helvetica,sans-Serif\" font-size=\"14.00\">value = [2, 0, 0]</text>\n<text text-anchor=\"middle\" x=\"81.5\" y=\"-476.3\" font-family=\"Helvetica,sans-Serif\" font-size=\"14.00\">class = Mais Exames</text>\n</g>\n<!-- 0&#45;&gt;1 -->\n<g id=\"edge1\" class=\"edge\">\n<title>0&#45;&gt;1</title>\n<path fill=\"none\" stroke=\"black\" d=\"M140.93,-579.91C132.09,-568.54 122.47,-556.18 113.6,-544.77\"/>\n<polygon fill=\"black\" stroke=\"black\" points=\"116.2,-542.41 107.3,-536.67 110.67,-546.71 116.2,-542.41\"/>\n<text text-anchor=\"middle\" x=\"104.2\" y=\"-557.77\" font-family=\"Helvetica,sans-Serif\" font-size=\"14.00\">True</text>\n</g>\n<!-- 2 -->\n<g id=\"node3\" class=\"node\">\n<title>2</title>\n<path fill=\"#eadefb\" stroke=\"black\" d=\"M336,-544C336,-544 193,-544 193,-544 187,-544 181,-538 181,-532 181,-532 181,-473 181,-473 181,-467 187,-461 193,-461 193,-461 336,-461 336,-461 342,-461 348,-467 348,-473 348,-473 348,-532 348,-532 348,-538 342,-544 336,-544\"/>\n<text text-anchor=\"middle\" x=\"264.5\" y=\"-528.8\" font-family=\"Helvetica,sans-Serif\" font-size=\"14.00\">Dor_Muscular &lt;= 0.5</text>\n<text text-anchor=\"middle\" x=\"264.5\" y=\"-513.8\" font-family=\"Helvetica,sans-Serif\" font-size=\"14.00\">entropy = 1.361</text>\n<text text-anchor=\"middle\" x=\"264.5\" y=\"-498.8\" font-family=\"Helvetica,sans-Serif\" font-size=\"14.00\">samples = 10</text>\n<text text-anchor=\"middle\" x=\"264.5\" y=\"-483.8\" font-family=\"Helvetica,sans-Serif\" font-size=\"14.00\">value = [1, 4, 5]</text>\n<text text-anchor=\"middle\" x=\"264.5\" y=\"-468.8\" font-family=\"Helvetica,sans-Serif\" font-size=\"14.00\">class = Emergência</text>\n</g>\n<!-- 0&#45;&gt;2 -->\n<g id=\"edge2\" class=\"edge\">\n<title>0&#45;&gt;2</title>\n<path fill=\"none\" stroke=\"black\" d=\"M204.42,-579.91C211.48,-570.92 219.04,-561.32 226.32,-552.05\"/>\n<polygon fill=\"black\" stroke=\"black\" points=\"229.21,-554.05 232.64,-544.02 223.7,-549.72 229.21,-554.05\"/>\n<text text-anchor=\"middle\" x=\"235.61\" y=\"-565.14\" font-family=\"Helvetica,sans-Serif\" font-size=\"14.00\">False</text>\n</g>\n<!-- 3 -->\n<g id=\"node4\" class=\"node\">\n<title>3</title>\n<path fill=\"#39e581\" stroke=\"black\" d=\"M238.5,-417.5C238.5,-417.5 128.5,-417.5 128.5,-417.5 122.5,-417.5 116.5,-411.5 116.5,-405.5 116.5,-405.5 116.5,-361.5 116.5,-361.5 116.5,-355.5 122.5,-349.5 128.5,-349.5 128.5,-349.5 238.5,-349.5 238.5,-349.5 244.5,-349.5 250.5,-355.5 250.5,-361.5 250.5,-361.5 250.5,-405.5 250.5,-405.5 250.5,-411.5 244.5,-417.5 238.5,-417.5\"/>\n<text text-anchor=\"middle\" x=\"183.5\" y=\"-402.3\" font-family=\"Helvetica,sans-Serif\" font-size=\"14.00\">entropy = 0.0</text>\n<text text-anchor=\"middle\" x=\"183.5\" y=\"-387.3\" font-family=\"Helvetica,sans-Serif\" font-size=\"14.00\">samples = 2</text>\n<text text-anchor=\"middle\" x=\"183.5\" y=\"-372.3\" font-family=\"Helvetica,sans-Serif\" font-size=\"14.00\">value = [0, 2, 0]</text>\n<text text-anchor=\"middle\" x=\"183.5\" y=\"-357.3\" font-family=\"Helvetica,sans-Serif\" font-size=\"14.00\">class = Urgência</text>\n</g>\n<!-- 2&#45;&gt;3 -->\n<g id=\"edge3\" class=\"edge\">\n<title>2&#45;&gt;3</title>\n<path fill=\"none\" stroke=\"black\" d=\"M236.4,-460.91C228.61,-449.65 220.14,-437.42 212.3,-426.11\"/>\n<polygon fill=\"black\" stroke=\"black\" points=\"215.03,-423.9 206.46,-417.67 209.28,-427.88 215.03,-423.9\"/>\n</g>\n<!-- 4 -->\n<g id=\"node5\" class=\"node\">\n<title>4</title>\n<path fill=\"#c09cf2\" stroke=\"black\" d=\"M410.5,-425C410.5,-425 280.5,-425 280.5,-425 274.5,-425 268.5,-419 268.5,-413 268.5,-413 268.5,-354 268.5,-354 268.5,-348 274.5,-342 280.5,-342 280.5,-342 410.5,-342 410.5,-342 416.5,-342 422.5,-348 422.5,-354 422.5,-354 422.5,-413 422.5,-413 422.5,-419 416.5,-425 410.5,-425\"/>\n<text text-anchor=\"middle\" x=\"345.5\" y=\"-409.8\" font-family=\"Helvetica,sans-Serif\" font-size=\"14.00\">Febre &lt;= 1.5</text>\n<text text-anchor=\"middle\" x=\"345.5\" y=\"-394.8\" font-family=\"Helvetica,sans-Serif\" font-size=\"14.00\">entropy = 1.299</text>\n<text text-anchor=\"middle\" x=\"345.5\" y=\"-379.8\" font-family=\"Helvetica,sans-Serif\" font-size=\"14.00\">samples = 8</text>\n<text text-anchor=\"middle\" x=\"345.5\" y=\"-364.8\" font-family=\"Helvetica,sans-Serif\" font-size=\"14.00\">value = [1, 2, 5]</text>\n<text text-anchor=\"middle\" x=\"345.5\" y=\"-349.8\" font-family=\"Helvetica,sans-Serif\" font-size=\"14.00\">class = Emergência</text>\n</g>\n<!-- 2&#45;&gt;4 -->\n<g id=\"edge4\" class=\"edge\">\n<title>2&#45;&gt;4</title>\n<path fill=\"none\" stroke=\"black\" d=\"M292.6,-460.91C298.76,-452.01 305.34,-442.51 311.69,-433.33\"/>\n<polygon fill=\"black\" stroke=\"black\" points=\"314.63,-435.24 317.45,-425.02 308.88,-431.25 314.63,-435.24\"/>\n</g>\n<!-- 5 -->\n<g id=\"node6\" class=\"node\">\n<title>5</title>\n<path fill=\"#bdf6d5\" stroke=\"black\" d=\"M328,-306C328,-306 185,-306 185,-306 179,-306 173,-300 173,-294 173,-294 173,-235 173,-235 173,-229 179,-223 185,-223 185,-223 328,-223 328,-223 334,-223 340,-229 340,-235 340,-235 340,-294 340,-294 340,-300 334,-306 328,-306\"/>\n<text text-anchor=\"middle\" x=\"256.5\" y=\"-290.8\" font-family=\"Helvetica,sans-Serif\" font-size=\"14.00\">Dor_Muscular &lt;= 1.5</text>\n<text text-anchor=\"middle\" x=\"256.5\" y=\"-275.8\" font-family=\"Helvetica,sans-Serif\" font-size=\"14.00\">entropy = 1.5</text>\n<text text-anchor=\"middle\" x=\"256.5\" y=\"-260.8\" font-family=\"Helvetica,sans-Serif\" font-size=\"14.00\">samples = 4</text>\n<text text-anchor=\"middle\" x=\"256.5\" y=\"-245.8\" font-family=\"Helvetica,sans-Serif\" font-size=\"14.00\">value = [1, 2, 1]</text>\n<text text-anchor=\"middle\" x=\"256.5\" y=\"-230.8\" font-family=\"Helvetica,sans-Serif\" font-size=\"14.00\">class = Urgência</text>\n</g>\n<!-- 4&#45;&gt;5 -->\n<g id=\"edge5\" class=\"edge\">\n<title>4&#45;&gt;5</title>\n<path fill=\"none\" stroke=\"black\" d=\"M314.62,-341.91C307.79,-332.92 300.48,-323.32 293.43,-314.05\"/>\n<polygon fill=\"black\" stroke=\"black\" points=\"296.16,-311.86 287.32,-306.02 290.59,-316.1 296.16,-311.86\"/>\n</g>\n<!-- 10 -->\n<g id=\"node11\" class=\"node\">\n<title>10</title>\n<path fill=\"#8139e5\" stroke=\"black\" d=\"M500.5,-298.5C500.5,-298.5 370.5,-298.5 370.5,-298.5 364.5,-298.5 358.5,-292.5 358.5,-286.5 358.5,-286.5 358.5,-242.5 358.5,-242.5 358.5,-236.5 364.5,-230.5 370.5,-230.5 370.5,-230.5 500.5,-230.5 500.5,-230.5 506.5,-230.5 512.5,-236.5 512.5,-242.5 512.5,-242.5 512.5,-286.5 512.5,-286.5 512.5,-292.5 506.5,-298.5 500.5,-298.5\"/>\n<text text-anchor=\"middle\" x=\"435.5\" y=\"-283.3\" font-family=\"Helvetica,sans-Serif\" font-size=\"14.00\">entropy = 0.0</text>\n<text text-anchor=\"middle\" x=\"435.5\" y=\"-268.3\" font-family=\"Helvetica,sans-Serif\" font-size=\"14.00\">samples = 4</text>\n<text text-anchor=\"middle\" x=\"435.5\" y=\"-253.3\" font-family=\"Helvetica,sans-Serif\" font-size=\"14.00\">value = [0, 0, 4]</text>\n<text text-anchor=\"middle\" x=\"435.5\" y=\"-238.3\" font-family=\"Helvetica,sans-Serif\" font-size=\"14.00\">class = Emergência</text>\n</g>\n<!-- 4&#45;&gt;10 -->\n<g id=\"edge10\" class=\"edge\">\n<title>4&#45;&gt;10</title>\n<path fill=\"none\" stroke=\"black\" d=\"M376.73,-341.91C385.47,-330.54 394.98,-318.18 403.75,-306.77\"/>\n<polygon fill=\"black\" stroke=\"black\" points=\"406.66,-308.73 409.99,-298.67 401.12,-304.46 406.66,-308.73\"/>\n</g>\n<!-- 6 -->\n<g id=\"node7\" class=\"node\">\n<title>6</title>\n<path fill=\"#ffffff\" stroke=\"black\" d=\"M243,-187C243,-187 104,-187 104,-187 98,-187 92,-181 92,-175 92,-175 92,-116 92,-116 92,-110 98,-104 104,-104 104,-104 243,-104 243,-104 249,-104 255,-110 255,-116 255,-116 255,-175 255,-175 255,-181 249,-187 243,-187\"/>\n<text text-anchor=\"middle\" x=\"173.5\" y=\"-171.8\" font-family=\"Helvetica,sans-Serif\" font-size=\"14.00\">Coceira &lt;= 1.5</text>\n<text text-anchor=\"middle\" x=\"173.5\" y=\"-156.8\" font-family=\"Helvetica,sans-Serif\" font-size=\"14.00\">entropy = 1.0</text>\n<text text-anchor=\"middle\" x=\"173.5\" y=\"-141.8\" font-family=\"Helvetica,sans-Serif\" font-size=\"14.00\">samples = 2</text>\n<text text-anchor=\"middle\" x=\"173.5\" y=\"-126.8\" font-family=\"Helvetica,sans-Serif\" font-size=\"14.00\">value = [1, 0, 1]</text>\n<text text-anchor=\"middle\" x=\"173.5\" y=\"-111.8\" font-family=\"Helvetica,sans-Serif\" font-size=\"14.00\">class = Mais Exames</text>\n</g>\n<!-- 5&#45;&gt;6 -->\n<g id=\"edge6\" class=\"edge\">\n<title>5&#45;&gt;6</title>\n<path fill=\"none\" stroke=\"black\" d=\"M227.7,-222.91C221.39,-214.01 214.65,-204.51 208.14,-195.33\"/>\n<polygon fill=\"black\" stroke=\"black\" points=\"210.89,-193.15 202.25,-187.02 205.18,-197.2 210.89,-193.15\"/>\n</g>\n<!-- 9 -->\n<g id=\"node10\" class=\"node\">\n<title>9</title>\n<path fill=\"#39e581\" stroke=\"black\" d=\"M395.5,-179.5C395.5,-179.5 285.5,-179.5 285.5,-179.5 279.5,-179.5 273.5,-173.5 273.5,-167.5 273.5,-167.5 273.5,-123.5 273.5,-123.5 273.5,-117.5 279.5,-111.5 285.5,-111.5 285.5,-111.5 395.5,-111.5 395.5,-111.5 401.5,-111.5 407.5,-117.5 407.5,-123.5 407.5,-123.5 407.5,-167.5 407.5,-167.5 407.5,-173.5 401.5,-179.5 395.5,-179.5\"/>\n<text text-anchor=\"middle\" x=\"340.5\" y=\"-164.3\" font-family=\"Helvetica,sans-Serif\" font-size=\"14.00\">entropy = 0.0</text>\n<text text-anchor=\"middle\" x=\"340.5\" y=\"-149.3\" font-family=\"Helvetica,sans-Serif\" font-size=\"14.00\">samples = 2</text>\n<text text-anchor=\"middle\" x=\"340.5\" y=\"-134.3\" font-family=\"Helvetica,sans-Serif\" font-size=\"14.00\">value = [0, 2, 0]</text>\n<text text-anchor=\"middle\" x=\"340.5\" y=\"-119.3\" font-family=\"Helvetica,sans-Serif\" font-size=\"14.00\">class = Urgência</text>\n</g>\n<!-- 5&#45;&gt;9 -->\n<g id=\"edge9\" class=\"edge\">\n<title>5&#45;&gt;9</title>\n<path fill=\"none\" stroke=\"black\" d=\"M285.64,-222.91C293.72,-211.65 302.51,-199.42 310.63,-188.11\"/>\n<polygon fill=\"black\" stroke=\"black\" points=\"313.7,-189.83 316.69,-179.67 308.01,-185.75 313.7,-189.83\"/>\n</g>\n<!-- 7 -->\n<g id=\"node8\" class=\"node\">\n<title>7</title>\n<path fill=\"#e58139\" stroke=\"black\" d=\"M155,-68C155,-68 16,-68 16,-68 10,-68 4,-62 4,-56 4,-56 4,-12 4,-12 4,-6 10,0 16,0 16,0 155,0 155,0 161,0 167,-6 167,-12 167,-12 167,-56 167,-56 167,-62 161,-68 155,-68\"/>\n<text text-anchor=\"middle\" x=\"85.5\" y=\"-52.8\" font-family=\"Helvetica,sans-Serif\" font-size=\"14.00\">entropy = 0.0</text>\n<text text-anchor=\"middle\" x=\"85.5\" y=\"-37.8\" font-family=\"Helvetica,sans-Serif\" font-size=\"14.00\">samples = 1</text>\n<text text-anchor=\"middle\" x=\"85.5\" y=\"-22.8\" font-family=\"Helvetica,sans-Serif\" font-size=\"14.00\">value = [1, 0, 0]</text>\n<text text-anchor=\"middle\" x=\"85.5\" y=\"-7.8\" font-family=\"Helvetica,sans-Serif\" font-size=\"14.00\">class = Mais Exames</text>\n</g>\n<!-- 6&#45;&gt;7 -->\n<g id=\"edge7\" class=\"edge\">\n<title>6&#45;&gt;7</title>\n<path fill=\"none\" stroke=\"black\" d=\"M140.73,-103.73C133.55,-94.79 125.94,-85.32 118.74,-76.36\"/>\n<polygon fill=\"black\" stroke=\"black\" points=\"121.25,-73.9 112.26,-68.3 115.8,-78.29 121.25,-73.9\"/>\n</g>\n<!-- 8 -->\n<g id=\"node9\" class=\"node\">\n<title>8</title>\n<path fill=\"#8139e5\" stroke=\"black\" d=\"M327.5,-68C327.5,-68 197.5,-68 197.5,-68 191.5,-68 185.5,-62 185.5,-56 185.5,-56 185.5,-12 185.5,-12 185.5,-6 191.5,0 197.5,0 197.5,0 327.5,0 327.5,0 333.5,0 339.5,-6 339.5,-12 339.5,-12 339.5,-56 339.5,-56 339.5,-62 333.5,-68 327.5,-68\"/>\n<text text-anchor=\"middle\" x=\"262.5\" y=\"-52.8\" font-family=\"Helvetica,sans-Serif\" font-size=\"14.00\">entropy = 0.0</text>\n<text text-anchor=\"middle\" x=\"262.5\" y=\"-37.8\" font-family=\"Helvetica,sans-Serif\" font-size=\"14.00\">samples = 1</text>\n<text text-anchor=\"middle\" x=\"262.5\" y=\"-22.8\" font-family=\"Helvetica,sans-Serif\" font-size=\"14.00\">value = [0, 0, 1]</text>\n<text text-anchor=\"middle\" x=\"262.5\" y=\"-7.8\" font-family=\"Helvetica,sans-Serif\" font-size=\"14.00\">class = Emergência</text>\n</g>\n<!-- 6&#45;&gt;8 -->\n<g id=\"edge8\" class=\"edge\">\n<title>6&#45;&gt;8</title>\n<path fill=\"none\" stroke=\"black\" d=\"M206.64,-103.73C213.98,-94.7 221.76,-85.12 229.11,-76.08\"/>\n<polygon fill=\"black\" stroke=\"black\" points=\"231.84,-78.27 235.43,-68.3 226.41,-73.85 231.84,-78.27\"/>\n</g>\n</g>\n</svg>\n",
      "text/plain": [
       "<graphviz.sources.Source at 0x7f63c686dc70>"
      ]
     },
     "execution_count": 125,
     "metadata": {},
     "output_type": "execute_result"
    }
   ],
   "source": [
    "t = tree.DecisionTreeClassifier(criterion=\"entropy\")\n",
    "t = t.fit(x, y)\n",
    "t\n",
    "\n",
    "print_tree(t)"
   ]
  },
  {
   "cell_type": "markdown",
   "metadata": {},
   "source": [
    "Podemos ver que, já que temos poucos dados e treinamos com o dataset inteiro, temos 100% de acerto no conjunto de treino"
   ]
  },
  {
   "cell_type": "code",
   "execution_count": 126,
   "metadata": {},
   "outputs": [
    {
     "data": {
      "text/plain": [
       "'100.0% de acerto'"
      ]
     },
     "execution_count": 126,
     "metadata": {},
     "output_type": "execute_result"
    }
   ],
   "source": [
    "taxa_de_acerto = (t.predict(x) == y).sum()/len(y)\n",
    "f\"{taxa_de_acerto*100}% de acerto\""
   ]
  }
 ],
 "metadata": {
  "kernelspec": {
   "display_name": "Python 3.8.10 64-bit",
   "language": "python",
   "name": "python3"
  },
  "language_info": {
   "codemirror_mode": {
    "name": "ipython",
    "version": 3
   },
   "file_extension": ".py",
   "mimetype": "text/x-python",
   "name": "python",
   "nbconvert_exporter": "python",
   "pygments_lexer": "ipython3",
   "version": "3.8.10"
  },
  "orig_nbformat": 4,
  "vscode": {
   "interpreter": {
    "hash": "916dbcbb3f70747c44a77c7bcd40155683ae19c65e1c03b4aa3499c5328201f1"
   }
  }
 },
 "nbformat": 4,
 "nbformat_minor": 2
}
